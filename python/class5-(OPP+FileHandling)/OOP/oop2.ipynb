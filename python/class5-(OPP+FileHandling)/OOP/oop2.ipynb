{
 "cells": [
  {
   "cell_type": "code",
   "execution_count": 1,
   "metadata": {},
   "outputs": [
    {
     "name": "stdout",
     "output_type": "stream",
     "text": [
      "Dog init\n",
      "Name  willie\n",
      "Age  6\n"
     ]
    }
   ],
   "source": [
    "# %load objects1.py\n",
    "class Dog():\n",
    "    \"\"\"A simple attempt to model a dog.\"\"\"\n",
    "\n",
    "    def __init__(self,name,age):\n",
    "        print(\"Dog init\")\n",
    "        print(\"Name \",name)\n",
    "        print(\"Age \", age)\n",
    "\n",
    "    #def __init__(self,name):\n",
    "    #    print(\"Dog init\")\n",
    "    #    print(\"Name \",name)\n",
    "\n",
    "    def bark(self):\n",
    "        print(\"Dog is barking\")\n",
    "\n",
    "e = Dog(\"willie\",6)\n",
    "#g = Dog(\"willie\")\n",
    "#print(d)\n",
    "#d.bark()\n"
   ]
  },
  {
   "cell_type": "code",
   "execution_count": 2,
   "metadata": {},
   "outputs": [
    {
     "name": "stdout",
     "output_type": "stream",
     "text": [
      "Dog init\n",
      "Name  willie\n",
      "Age  6\n",
      "willie\n",
      "6\n",
      "10\n"
     ]
    }
   ],
   "source": [
    "# %load objects2.py\n",
    "class Dog():\n",
    "    \"\"\"A simple attempt to model a dog.\"\"\"\n",
    "\n",
    "    def __init__(self,name,age):\n",
    "        print(\"Dog init\")\n",
    "        print(\"Name \",name)\n",
    "        print(\"Age \", age)\n",
    "        self.name = name\n",
    "        self.age = age\n",
    "\n",
    "    def bark(self):\n",
    "        print(\"Dog is barking\")\n",
    "\n",
    "e = Dog(\"willie\",6)\n",
    "\n",
    "print(e.name)\n",
    "print(e.age)\n",
    "e.age = 10\n",
    "print(e.age)\n"
   ]
  },
  {
   "cell_type": "code",
   "execution_count": 3,
   "metadata": {},
   "outputs": [
    {
     "name": "stdout",
     "output_type": "stream",
     "text": [
      "Dog init\n",
      "Name  willie\n",
      "Age  6\n",
      "willie is barking\n"
     ]
    }
   ],
   "source": [
    "# %load object3.py\n",
    "class Dog():\n",
    "    \"\"\"A simple attempt to model a dog.\"\"\"\n",
    "\n",
    "    def __init__(self,name,age):\n",
    "        print(\"Dog init\")\n",
    "        print(\"Name \",name)\n",
    "        print(\"Age \", age)\n",
    "        self.name = name\n",
    "        self.age = age\n",
    "\n",
    "    def bark(self):\n",
    "        print(self.name +\" is barking\")\n",
    "\n",
    "e = Dog(\"willie\",6)\n",
    "e.bark()"
   ]
  },
  {
   "cell_type": "code",
   "execution_count": 12,
   "metadata": {},
   "outputs": [],
   "source": [
    "from abc import ABC, abstractmethod\n",
    "\n",
    "class Human(ABC):\n",
    "    @abstractmethod\n",
    "    def hello():\n",
    "        pass\n",
    "    def hello2(self):\n",
    "        print(\"Hello2\")\n",
    "    \n",
    "class Man(Human):\n",
    "    def hello():\n",
    "        print(\"pakistan\")\n",
    "\n",
    "a = Man()\n"
   ]
  },
  {
   "cell_type": "code",
   "execution_count": 10,
   "metadata": {},
   "outputs": [
    {
     "name": "stdout",
     "output_type": "stream",
     "text": [
      "Hello2\n"
     ]
    }
   ],
   "source": [
    "a.hello2()"
   ]
  },
  {
   "cell_type": "code",
   "execution_count": null,
   "metadata": {},
   "outputs": [],
   "source": []
  }
 ],
 "metadata": {
  "kernelspec": {
   "display_name": "Python 3",
   "language": "python",
   "name": "python3"
  },
  "language_info": {
   "codemirror_mode": {
    "name": "ipython",
    "version": 3
   },
   "file_extension": ".py",
   "mimetype": "text/x-python",
   "name": "python",
   "nbconvert_exporter": "python",
   "pygments_lexer": "ipython3",
   "version": "3.7.1"
  }
 },
 "nbformat": 4,
 "nbformat_minor": 2
}
